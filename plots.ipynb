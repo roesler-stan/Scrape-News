{
 "cells": [
  {
   "cell_type": "code",
   "execution_count": 1,
   "metadata": {
    "collapsed": false
   },
   "outputs": [
    {
     "name": "stderr",
     "output_type": "stream",
     "text": [
      "/usr/local/lib/python2.7/site-packages/matplotlib/__init__.py:872: UserWarning: axes.color_cycle is deprecated and replaced with axes.prop_cycle; please use the latter.\n",
      "  warnings.warn(self.msg_depr % (key, alt_key))\n"
     ]
    }
   ],
   "source": [
    "import pandas as pd\n",
    "import numpy as np\n",
    "import re\n",
    "from bokeh.charts import Bar, Scatter, output_notebook, show, output_file\n",
    "from bokeh.charts.attributes import CatAttr, color\n",
    "from bokeh.models import HoverTool, Range1d, Span, LabelSet, ColumnDataSource, Title, NumeralTickFormatter\n",
    "from bokeh.plotting import figure\n",
    "import matplotlib.pyplot as plt"
   ]
  },
  {
   "cell_type": "code",
   "execution_count": 2,
   "metadata": {
    "collapsed": false
   },
   "outputs": [],
   "source": [
    "data_directory = \"../Data/\"\n",
    "counts_file = data_directory + \"counts.csv\"\n",
    "tfidf_file = data_directory + \"tfidf.csv\"\n",
    "\n",
    "df_counts = pd.read_csv(counts_file)\n",
    "df_tfidf = pd.read_csv(tfidf_file)\n",
    "df_counts = df_counts.dropna(subset = ['term'])\n",
    "df_tfidf = df_tfidf.dropna(subset = ['term'])"
   ]
  },
  {
   "cell_type": "markdown",
   "metadata": {},
   "source": [
    "##### TF-IDF doesn't seem very useful, as the same words pop out for both sites"
   ]
  },
  {
   "cell_type": "code",
   "execution_count": null,
   "metadata": {
    "collapsed": true
   },
   "outputs": [],
   "source": [
    "df_tfidf"
   ]
  },
  {
   "cell_type": "code",
   "execution_count": null,
   "metadata": {
    "collapsed": false
   },
   "outputs": [],
   "source": [
    "# Normalize words counts by the site's total word counts\n",
    "df_counts['CNN'] = (df_counts['CNN'] / df_counts['CNN'].sum()) * 100\n",
    "df_counts['Fox'] = (df_counts['Fox'] / df_counts['Fox'].sum()) * 100"
   ]
  },
  {
   "cell_type": "code",
   "execution_count": null,
   "metadata": {
    "collapsed": false
   },
   "outputs": [],
   "source": [
    "df_counts[:2]"
   ]
  },
  {
   "cell_type": "code",
   "execution_count": null,
   "metadata": {
    "collapsed": false
   },
   "outputs": [],
   "source": [
    "df_counts = pd.melt(df_counts, id_vars = 'term', var_name = 'site', value_name = 'term_pct')"
   ]
  },
  {
   "cell_type": "code",
   "execution_count": null,
   "metadata": {
    "collapsed": false
   },
   "outputs": [],
   "source": [
    "df_counts[:2]"
   ]
  },
  {
   "cell_type": "code",
   "execution_count": null,
   "metadata": {
    "collapsed": false
   },
   "outputs": [],
   "source": [
    "TOP_NUMBER = 5\n",
    "top_CNN = df_counts[df_counts['site'] == 'CNN'].sort_values(by = 'term_pct', ascending = False)[: TOP_NUMBER]\n",
    "top_Fox = df_counts[df_counts['site'] == 'Fox'].sort_values(by = 'term_pct', ascending = False)[: TOP_NUMBER]\n",
    "\n",
    "top_CNN_term = top_CNN['term'].tolist()\n",
    "top_Fox_terms = top_Fox['term'].tolist()\n",
    "top_terms = list(set(top_CNN_term + top_Fox_terms))\n",
    "plot_data = df_counts.loc[df_counts['term'].isin(top_terms)]\n",
    "plot_data['term'] = plot_data['term'].str.title()"
   ]
  },
  {
   "cell_type": "code",
   "execution_count": null,
   "metadata": {
    "collapsed": false
   },
   "outputs": [],
   "source": [
    "# Let's plot this with Bokeh, making an HTML file\n",
    "p = Bar(plot_data, label=CatAttr(columns=['term'], sort=True), values='term_pct',\n",
    "         group = \"site\", legend = \"top_right\", tools=\"previewsave\", height=600, width=900,\n",
    "        title=\"Top Terms for CNN and Fox\", xlabel=\"Term\", ylabel=\"Percentage of Terms\")\n",
    "\n",
    "# Fix bar width issue\n",
    "for r in p.renderers:\n",
    "    try:\n",
    "        r.glyph.width = 0.33\n",
    "    except AttributeError:\n",
    "        pass\n",
    "\n",
    "msg = \"\"\"Note: Data are from CNN.com and Foxnews.com.  Common and one-letter words have been excluded.\"\"\"\n",
    "caption = Title(text=msg, align='left', text_font_size='8pt')\n",
    "p.add_layout(caption, 'below')\n",
    "\n",
    "output_file(\"../Output/term_pct.html\")\n",
    "show(p)"
   ]
  },
  {
   "cell_type": "code",
   "execution_count": null,
   "metadata": {
    "collapsed": false
   },
   "outputs": [],
   "source": [
    "# We can make a similar plot using Matplotlib (ggplot is buggy), producing a PNG image\n",
    "%matplotlib inline\n",
    "\n",
    "plot_data = plot_data.sort_values(by = 'term')\n",
    "cnn_data = plot_data.loc[plot_data['site'] == 'CNN']\n",
    "fox_data = plot_data.loc[plot_data['site'] == 'Fox']\n",
    "cnn = cnn_data['term_pct'].tolist()\n",
    "fox = fox_data['term_pct'].tolist()\n",
    "ind = np.arange(len(cnn))\n",
    "width = 0.35\n",
    "\n",
    "fig, ax = plt.subplots()\n",
    "rects1 = ax.bar(ind, cnn, width, color='r')\n",
    "rects2 = ax.bar(ind + width, fox, width, color='y')\n",
    "\n",
    "# add some text for labels, title and axes ticks\n",
    "ax.set_title('Term Frequency by News Source', fontsize = 10)\n",
    "ax.set_ylabel('Percentage of Terms', fontsize = 8)\n",
    "ax.set_xticks(ind + width)\n",
    "ax.set_xticklabels(tuple(cnn_data['term'].tolist()), fontsize = 4, rotation = 45)\n",
    "\n",
    "ax.legend((rects1[0], rects2[0]), ('CNN', 'Fox'), prop={'size':6})\n",
    "\n",
    "fig.savefig('../Output/term_pct.png', dpi = 250)"
   ]
  },
  {
   "cell_type": "code",
   "execution_count": null,
   "metadata": {
    "collapsed": false
   },
   "outputs": [],
   "source": [
    "# Calculate the term percentage divided by the average term percentage\n",
    "term_data = df_counts.groupby('term')['term_pct'].mean().reset_index()\n",
    "term_data = term_data.rename(columns = {'term_pct': 'term_pct_ave'})\n",
    "term_data = df_counts.merge(term_data, on = ['term'], how = 'inner')\n",
    "term_data['term_pct'] = term_data['term_pct'] / term_data['term_pct_ave']"
   ]
  },
  {
   "cell_type": "code",
   "execution_count": null,
   "metadata": {
    "collapsed": false
   },
   "outputs": [],
   "source": [
    "TOP_NUMBER = 5\n",
    "top_CNN = term_data[term_data['site'] == 'CNN'].sort_values(by = 'term_pct', ascending = False)[: TOP_NUMBER]\n",
    "top_Fox = term_data[term_data['site'] == 'Fox'].sort_values(by = 'term_pct', ascending = False)[: TOP_NUMBER]\n",
    "\n",
    "top_CNN_term = top_CNN['term'].tolist()\n",
    "top_Fox_terms = top_Fox['term'].tolist()\n",
    "top_terms = list(set(top_CNN_term + top_Fox_terms))\n",
    "plot_data = term_data.loc[term_data['term'].isin(top_terms)]\n",
    "plot_data['term'] = plot_data['term'].str.title()"
   ]
  },
  {
   "cell_type": "code",
   "execution_count": null,
   "metadata": {
    "collapsed": false
   },
   "outputs": [],
   "source": [
    "plot_data = plot_data.sort_values(by = 'term')\n",
    "cnn_data = plot_data.loc[plot_data['site'] == 'CNN']\n",
    "fox_data = plot_data.loc[plot_data['site'] == 'Fox']\n",
    "cnn = cnn_data['term_pct'].tolist()\n",
    "fox = fox_data['term_pct'].tolist()\n",
    "ind = np.arange(len(cnn))\n",
    "width = 0.35\n",
    "\n",
    "fig, ax = plt.subplots()\n",
    "rects1 = ax.bar(ind, cnn, width, color='r')\n",
    "rects2 = ax.bar(ind + width, fox, width, color='y')\n",
    "\n",
    "# add some text for labels, title and axes ticks\n",
    "ax.set_title('Term Frequency by News Source', fontsize = 10)\n",
    "ax.set_ylabel('Percentage of Terms divided by Average Percentage', fontsize = 8)\n",
    "ax.set_xticks(ind + width)\n",
    "ax.set_xticklabels(tuple(cnn_data['term'].tolist()), fontsize = 6, rotation = 45)\n",
    "\n",
    "ax.legend((rects1[0], rects2[0]), ('CNN', 'Fox'), prop={'size':6})\n",
    "\n",
    "fig.savefig('../Output/term_pct_div_ave.png', dpi = 250)"
   ]
  }
 ],
 "metadata": {
  "kernelspec": {
   "display_name": "Python 2",
   "language": "python",
   "name": "python2"
  },
  "language_info": {
   "codemirror_mode": {
    "name": "ipython",
    "version": 2
   },
   "file_extension": ".py",
   "mimetype": "text/x-python",
   "name": "python",
   "nbconvert_exporter": "python",
   "pygments_lexer": "ipython2",
   "version": "2.7.11"
  }
 },
 "nbformat": 4,
 "nbformat_minor": 0
}
