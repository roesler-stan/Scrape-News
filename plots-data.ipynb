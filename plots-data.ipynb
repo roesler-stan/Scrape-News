{
 "cells": [
  {
   "cell_type": "code",
   "execution_count": 1,
   "metadata": {
    "collapsed": false
   },
   "outputs": [
    {
     "name": "stderr",
     "output_type": "stream",
     "text": [
      "/usr/local/lib/python2.7/site-packages/matplotlib/__init__.py:872: UserWarning: axes.color_cycle is deprecated and replaced with axes.prop_cycle; please use the latter.\n",
      "  warnings.warn(self.msg_depr % (key, alt_key))\n"
     ]
    }
   ],
   "source": [
    "import pandas as pd\n",
    "import numpy as np\n",
    "import re"
   ]
  },
  {
   "cell_type": "code",
   "execution_count": 10,
   "metadata": {
    "collapsed": false
   },
   "outputs": [],
   "source": [
    "data_directory = \"../Data/\"\n",
    "data_file = data_directory + \"data.csv\"\n",
    "df = pd.read_csv(data_file)"
   ]
  },
  {
   "cell_type": "code",
   "execution_count": null,
   "metadata": {
    "collapsed": true
   },
   "outputs": [],
   "source": [
    "df[:2]"
   ]
  },
  {
   "cell_type": "code",
   "execution_count": null,
   "metadata": {
    "collapsed": false
   },
   "outputs": [],
   "source": [
    "len(df[df['text'].str.contains('trump', na = False, flags = re.I)])"
   ]
  },
  {
   "cell_type": "code",
   "execution_count": null,
   "metadata": {
    "collapsed": false
   },
   "outputs": [],
   "source": [
    "len(df[df['text'].str.contains('donald trump', na = False, flags = re.I)])"
   ]
  },
  {
   "cell_type": "code",
   "execution_count": null,
   "metadata": {
    "collapsed": true
   },
   "outputs": [],
   "source": [
    "# Check if articles refer to Trump and not his last name - they do\n",
    "s = df[df['text'].str.contains('trump', na = False, flags = re.I)]\n",
    "s = s[~s['text'].str.contains('donald trump', na = False, flags = re.I)]\n",
    "pd.options.display.max_colwidth = -1\n",
    "s['text'][1:2]"
   ]
  },
  {
   "cell_type": "code",
   "execution_count": null,
   "metadata": {
    "collapsed": true
   },
   "outputs": [],
   "source": [
    "# Check if articles refer to Bill and not Hillary Clinton - seems one does\n",
    "s = df[df['text'].str.contains('bill clinton', na = False, flags = re.I)]\n",
    "s = s[~s['text'].str.contains('hillary', na = False, flags = re.I)]\n",
    "pd.options.display.max_colwidth = -1\n",
    "len(s)\n",
    "s['text'][-1:]"
   ]
  },
  {
   "cell_type": "code",
   "execution_count": null,
   "metadata": {
    "collapsed": true
   },
   "outputs": [],
   "source": [
    "df['trump'] = 0\n",
    "df.loc[df['text'].str.contains('trump', na = False, flags = re.I), 'trump'] = 1\n",
    "\n",
    "df['clinton'] = 0\n",
    "df.loc[df['text'].str.contains('clinton', na = False, flags = re.I), 'clinton'] = 1"
   ]
  }
 ],
 "metadata": {
  "kernelspec": {
   "display_name": "Python 2",
   "language": "python",
   "name": "python2"
  },
  "language_info": {
   "codemirror_mode": {
    "name": "ipython",
    "version": 2
   },
   "file_extension": ".py",
   "mimetype": "text/x-python",
   "name": "python",
   "nbconvert_exporter": "python",
   "pygments_lexer": "ipython2",
   "version": "2.7.11"
  }
 },
 "nbformat": 4,
 "nbformat_minor": 0
}
